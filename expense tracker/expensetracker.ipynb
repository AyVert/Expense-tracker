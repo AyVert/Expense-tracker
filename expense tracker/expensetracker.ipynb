{
 "cells": [
  {
   "cell_type": "code",
   "execution_count": 26,
   "metadata": {},
   "outputs": [],
   "source": [
    "\n",
    "#Description: A Expense Tracker"
   ]
  },
  {
   "cell_type": "code",
   "execution_count": 27,
   "metadata": {},
   "outputs": [],
   "source": [
    "#Importing Libraries\n",
    "import numpy as np\n",
    "import pandas as pd\n",
    "from datetime import date"
   ]
  },
  {
   "cell_type": "code",
   "execution_count": 28,
   "metadata": {},
   "outputs": [],
   "source": [
    "#Creating Lists\n",
    "GOODS_OR_SERVICES = []\n",
    "PRICES = []\n",
    "DATES = []\n",
    "EXPENSE_TYPES = []\n"
   ]
  },
  {
   "cell_type": "code",
   "execution_count": 29,
   "metadata": {},
   "outputs": [],
   "source": [
    "#Creating a function to add expenses to the lists and organize the data\n",
    "def add_expense(good_or_service, price, date, expense_type):\n",
    "    GOODS_OR_SERVICES.append(good_or_service)\n",
    "    PRICES.append(price)\n",
    "    DATES.append(date)\n",
    "    EXPENSE_TYPES.append(expense_type)"
   ]
  },
  {
   "cell_type": "code",
   "execution_count": 30,
   "metadata": {},
   "outputs": [
    {
     "name": "stdout",
     "output_type": "stream",
     "text": [
      "Welcome To Expense Tracker Volume 1: \n",
      "1. Add Food Expense\n",
      "2. Add Household Expense\n",
      "3. Add Fun Expense\n",
      "4. Add Transportation Expense\n",
      "5. Add Show And Save The Expense Report\n",
      "0. Exit\n",
      "\n",
      "Adding Food Expense\n",
      "\n",
      "Welcome To Expense Tracker Volume 1: \n",
      "1. Add Food Expense\n",
      "2. Add Household Expense\n",
      "3. Add Fun Expense\n",
      "4. Add Transportation Expense\n",
      "5. Add Show And Save The Expense Report\n",
      "0. Exit\n",
      "\n",
      "Adding Show And Save The Expense Report\n",
      "  GOODS_OR_SERVICES  PRICES  \\\n",
      "0             Tacos    12.0   \n",
      "\n",
      "                                               DATES EXPENSE_TYPES  \n",
      "0  <built-in method today of type object at 0x10e...          FOOD  \n",
      "\n",
      "Welcome To Expense Tracker Volume 1: \n",
      "1. Add Food Expense\n",
      "2. Add Household Expense\n",
      "3. Add Fun Expense\n",
      "4. Add Transportation Expense\n",
      "5. Add Show And Save The Expense Report\n",
      "0. Exit\n",
      "\n",
      "Exiting Expense Tracker V1\n"
     ]
    }
   ],
   "source": [
    "#Main program\n",
    "\n",
    "option = -1 #This will be users option or choice\n",
    "while(option != 0):\n",
    "    #Create the option menu\n",
    "    print('Welcome To Expense Tracker Volume 1: ')\n",
    "    print('1. Add Food Expense')\n",
    "    print('2. Add Household Expense')\n",
    "    print('3. Add Fun Expense')\n",
    "    print('4. Add Transportation Expense')\n",
    "    print('5. Add Show And Save The Expense Report')\n",
    "    print('0. Exit')\n",
    "    option = float(input('Choose an option:\\n'))\n",
    "\n",
    "    #Print new line\n",
    "    print()\n",
    "    #Check validity of users input\n",
    "    if option == 0:\n",
    "        print('Exiting Expense Tracker V1')\n",
    "        break\n",
    "    elif option == 1:\n",
    "        print('Adding Food Expense')\n",
    "        expense_type = 'FOOD'\n",
    "    elif option == 2:\n",
    "        print('Adding Household Expense')\n",
    "        expense_type = 'HOUSEHOLD'\n",
    "    elif option == 3:\n",
    "        print('Adding Fun Expense')\n",
    "        expense_type = 'FUN'\n",
    "    elif option == 4:\n",
    "        print('Adding Transportation Expense')\n",
    "        expense_type = 'TRANSPORTATION'\n",
    "    elif option == 5:\n",
    "        print('Adding Show And Save The Expense Report')\n",
    "        expense_report = pd.DataFrame()\n",
    "        expense_report['GOODS_OR_SERVICES'] = GOODS_OR_SERVICES\n",
    "        expense_report['PRICES'] = PRICES\n",
    "        expense_report['DATES'] = DATES\n",
    "        expense_report['EXPENSE_TYPES'] = EXPENSE_TYPES\n",
    "        \n",
    "        #Save the expense report\n",
    "        expense_report.to_csv('expenses.csv')\n",
    "        \n",
    "        #Show the expense report\n",
    "        print(expense_report)\n",
    "    else:\n",
    "        print('Invalid Option. Please choose 0, 1, 2, 3, 4, 5')       \n",
    "        #Allows the user to enter a good or service\n",
    "    if option == 1 or option == 2 or option == 3 or option == 4:\n",
    "        good_or_service = input('Enter the good or service for the expense type ' +expense_type+ ':\\n')\n",
    "        price = float(input('Enter the price of the good or service:\\n'))\n",
    "        today = date.today\n",
    "        add_expense(good_or_service, price, today, expense_type)\n",
    "\n",
    "    #Print a new l\n",
    "    # ine\n",
    "    print()\n",
    "\n",
    "\n",
    "\n",
    "\n",
    "\n"
   ]
  }
 ],
 "metadata": {
  "kernelspec": {
   "display_name": "Python 3",
   "language": "python",
   "name": "python3"
  },
  "language_info": {
   "codemirror_mode": {
    "name": "ipython",
    "version": 3
   },
   "file_extension": ".py",
   "mimetype": "text/x-python",
   "name": "python",
   "nbconvert_exporter": "python",
   "pygments_lexer": "ipython3",
   "version": "3.10.9"
  },
  "orig_nbformat": 4
 },
 "nbformat": 4,
 "nbformat_minor": 2
}
